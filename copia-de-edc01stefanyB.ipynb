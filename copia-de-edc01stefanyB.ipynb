{
  "nbformat": 4,
  "nbformat_minor": 0,
  "metadata": {
    "colab": {
      "name": "Copia de EDC01.ipynb",
      "provenance": [],
      "include_colab_link": true
    },
    "kernelspec": {
      "name": "python3",
      "display_name": "Python 3"
    }
  },
  "cells": [
    {
      "cell_type": "markdown",
      "metadata": {
        "id": "view-in-github",
        "colab_type": "text"
      },
      "source": [
        "<a href=\"https://colab.research.google.com/gist/Stefany-B/c98ab38a6ec7a8ca69afc1cd18b412ea/copia-de-edc01.ipynb\" target=\"_parent\"><img src=\"https://colab.research.google.com/assets/colab-badge.svg\" alt=\"Open In Colab\"/></a>"
      ]
    },
    {
      "cell_type": "markdown",
      "metadata": {
        "id": "p6ihb74LPcPP"
      },
      "source": [
        "![alt text](http://www.fisc.utp.ac.pa/sites/all/themes/custom/sub_facultad/tropical_fisc/logo.png)\n",
        "\n",
        "# Universidad Tecnológica de Panamá\n",
        "### Facultad de Ingeniería de Sistemas Computacionales\n",
        "### Departamento de Computación y Simulación de Sistemas\n",
        "### Estructuras Discretas para la Computación\n",
        "#### Prof. Ezequiel Aguilar González\n",
        "\n",
        "\n",
        "## Taller 01\n"
      ]
    },
    {
      "cell_type": "markdown",
      "metadata": {
        "id": "OFWzzTWHTafe"
      },
      "source": [
        "### Strings"
      ]
    },
    {
      "cell_type": "code",
      "metadata": {
        "id": "kXKMx752Lf2p",
        "colab": {
          "base_uri": "https://localhost:8080/"
        },
        "outputId": "82e6c3d6-4886-4ff3-c947-149971c15801"
      },
      "source": [
        "primer_nombre = \"stefany\"\n",
        "apellidos = \"bejarano\"\n",
        "nombre_completo = primer_nombre + \" \" + apellidos\n",
        "\n",
        "mensaje = \"Hola, \" + nombre_completo.title() + \"!\"\n",
        "print(mensaje)"
      ],
      "execution_count": null,
      "outputs": [
        {
          "output_type": "stream",
          "name": "stdout",
          "text": [
            "Hola, Stefany Bejarano!\n"
          ]
        }
      ]
    },
    {
      "cell_type": "markdown",
      "metadata": {
        "id": "w5Dn15w3ThiA"
      },
      "source": [
        "### Arrays"
      ]
    },
    {
      "cell_type": "code",
      "metadata": {
        "id": "9XuF390WToJ2",
        "colab": {
          "base_uri": "https://localhost:8080/",
          "height": 151
        },
        "outputId": "1dc19ce9-e416-4d16-ecc1-98dffd483930"
      },
      "source": [
        "autos = ['Honda', 'Toyota', 'Ferrari', 'Bugatti']\n",
        "\n",
        "print(\"Lista Original\")\n",
        "print(autos)\n",
        "\n",
        "print(\"\\nLista Ordenada\")\n",
        "print(sorted(autos))\n",
        "\n",
        "print(\"\\n Lista Ordenada de forma inversa al ordenamiento alfabetico\")\n",
        "print(sorted(autos, reverse=True))"
      ],
      "execution_count": null,
      "outputs": [
        {
          "output_type": "stream",
          "text": [
            "Lista Original\n",
            "['Honda', 'Toyota', 'Ferrari', 'Bugatti']\n",
            "\n",
            "Lista Ordenada\n",
            "['Bugatti', 'Ferrari', 'Honda', 'Toyota']\n",
            "\n",
            " Lista Ordenada de forma inversa al ordenamiento alfabetico\n",
            "['Toyota', 'Honda', 'Ferrari', 'Bugatti']\n"
          ],
          "name": "stdout"
        }
      ]
    },
    {
      "cell_type": "code",
      "metadata": {
        "id": "VoqvEBAiYfFV",
        "colab": {
          "base_uri": "https://localhost:8080/"
        },
        "outputId": "5070fd58-a1bd-4e55-a697-4a20e2286d0f"
      },
      "source": [
        "c = [-45, 6, 0, 72, 1543]\n",
        "c[0]\n"
      ],
      "execution_count": 45,
      "outputs": [
        {
          "output_type": "execute_result",
          "data": {
            "text/plain": [
              "-45"
            ]
          },
          "metadata": {},
          "execution_count": 45
        }
      ]
    },
    {
      "cell_type": "code",
      "metadata": {
        "id": "MorcFXUCYlyd",
        "colab": {
          "base_uri": "https://localhost:8080/"
        },
        "outputId": "7e33256a-9292-4b43-9291-04be01edfdc6"
      },
      "source": [
        "len(c)"
      ],
      "execution_count": 3,
      "outputs": [
        {
          "output_type": "execute_result",
          "data": {
            "text/plain": [
              "5"
            ]
          },
          "metadata": {},
          "execution_count": 3
        }
      ]
    },
    {
      "cell_type": "code",
      "metadata": {
        "id": "HcbIBILuYrGq",
        "colab": {
          "base_uri": "https://localhost:8080/"
        },
        "outputId": "e7a78d45-9adc-4457-9720-b1f4e33f5766"
      },
      "source": [
        "#Lista vacia\n",
        "a_list = []\n",
        "print(a_list)"
      ],
      "execution_count": 4,
      "outputs": [
        {
          "output_type": "stream",
          "name": "stdout",
          "text": [
            "[]\n"
          ]
        }
      ]
    },
    {
      "cell_type": "code",
      "metadata": {
        "id": "stVvz68RY50M",
        "colab": {
          "base_uri": "https://localhost:8080/"
        },
        "outputId": "92b63045-32c8-4f98-8585-27ab4d04860f"
      },
      "source": [
        "\n",
        "for numero in range(1, 6):\n",
        "  a_list.append(numero)\n",
        "\n",
        "print(a_list)"
      ],
      "execution_count": 5,
      "outputs": [
        {
          "output_type": "stream",
          "name": "stdout",
          "text": [
            "[1, 2, 3, 4, 5]\n"
          ]
        }
      ]
    },
    {
      "cell_type": "markdown",
      "metadata": {
        "id": "Li5TVh0BbRd8"
      },
      "source": [
        "## Tarea 01\n",
        "Calcular el promedio de todos los estudiantes"
      ]
    },
    {
      "cell_type": "code",
      "source": [
        "libro_notas = {\n",
        "    'Susana': [92, 85, 100],\n",
        "    'Eduardo': [83, 95, 79],\n",
        "    'Ariel': [91, 89, 82],\n",
        "    'Pedro': [97, 91, 92]\n",
        "}\n",
        "\n",
        "total_notas = 0\n",
        "notas_contador = 0\n",
        "\n",
        "print(\"Libro de notas\")\n",
        "\n",
        "for nombres, notas in libro_notas.items():\n",
        "   total= sum(notas)\n",
        "   print(f'Promdio final para {nombres} es {total/len(notas):.1f}')\n",
        "   total_notas += total\n",
        "   notas_contador += len(notas)\n",
        "  "
      ],
      "metadata": {
        "colab": {
          "base_uri": "https://localhost:8080/"
        },
        "id": "rp709pa2DKII",
        "outputId": "72c02c7a-ea04-4e27-db4b-00b393ba02aa"
      },
      "execution_count": 60,
      "outputs": [
        {
          "output_type": "stream",
          "name": "stdout",
          "text": [
            "Libro de notas\n",
            "Promdio final para Susana es 92.3\n",
            "Promdio final para Eduardo es 85.7\n",
            "Promdio final para Ariel es 87.3\n",
            "Promdio final para Pedro es 93.3\n"
          ]
        }
      ]
    },
    {
      "cell_type": "code",
      "metadata": {
        "id": "yOg0RQfRaq2e",
        "colab": {
          "base_uri": "https://localhost:8080/"
        },
        "outputId": "6e091339-be1a-45bf-a068-fc6b53e16e9a"
      },
      "source": [
        "a=8 \n",
        "b=10\n",
        "print(a+b) "
      ],
      "execution_count": null,
      "outputs": [
        {
          "output_type": "stream",
          "name": "stdout",
          "text": [
            "18\n"
          ]
        }
      ]
    },
    {
      "cell_type": "code",
      "source": [
        "c=\"10\"\n",
        "d=\"20\"\n",
        "print(c+d)\n"
      ],
      "metadata": {
        "id": "z6G1p2fNGLO2",
        "outputId": "ea2bb5bb-eb4f-4dfc-9321-03439cadcf28",
        "colab": {
          "base_uri": "https://localhost:8080/"
        }
      },
      "execution_count": null,
      "outputs": [
        {
          "output_type": "stream",
          "name": "stdout",
          "text": [
            "1020\n"
          ]
        }
      ]
    },
    {
      "cell_type": "code",
      "source": [
        "l=1\n",
        "animales=['abeja','leon','conejo','pinguino']\n",
        "print(sorted(animales,reverse=True))\n",
        "type(l)"
      ],
      "metadata": {
        "colab": {
          "base_uri": "https://localhost:8080/"
        },
        "id": "Mw5kzCikcdUN",
        "outputId": "c3ff3e00-569d-4070-8b32-29bde06acee2"
      },
      "execution_count": 62,
      "outputs": [
        {
          "output_type": "stream",
          "name": "stdout",
          "text": [
            "['pinguino', 'leon', 'conejo', 'abeja']\n"
          ]
        },
        {
          "output_type": "execute_result",
          "data": {
            "text/plain": [
              "int"
            ]
          },
          "metadata": {},
          "execution_count": 62
        }
      ]
    },
    {
      "cell_type": "code",
      "source": [
        "num=['12','32','13','11','0','-1']\n",
        "print(sorted(num))\n",
        "len(num)"
      ],
      "metadata": {
        "colab": {
          "base_uri": "https://localhost:8080/"
        },
        "id": "mDo3sc5fc9dn",
        "outputId": "398f11e3-a8f6-4d0d-d7c2-a63b21ebbae9"
      },
      "execution_count": 63,
      "outputs": [
        {
          "output_type": "stream",
          "name": "stdout",
          "text": [
            "['-1', '0', '11', '12', '13', '32']\n"
          ]
        },
        {
          "output_type": "execute_result",
          "data": {
            "text/plain": [
              "6"
            ]
          },
          "metadata": {},
          "execution_count": 63
        }
      ]
    },
    {
      "cell_type": "code",
      "source": [
        "for(a=0; a<=10;a++)\n",
        "{\n",
        "    print (a)\n",
        "}"
      ],
      "metadata": {
        "id": "dP2Tar6rekCZ"
      },
      "execution_count": null,
      "outputs": []
    }
  ]
}