{
  "nbformat": 4,
  "nbformat_minor": 0,
  "metadata": {
    "colab": {
      "name": "Lab03StefnayB.ipynb",
      "provenance": []
    },
    "kernelspec": {
      "name": "python3",
      "display_name": "Python 3"
    },
    "language_info": {
      "name": "python"
    }
  },
  "cells": [
    {
      "cell_type": "markdown",
      "source": [
        ""
      ],
      "metadata": {
        "id": "AfT7z3e6Eyg4"
      }
    },
    {
      "cell_type": "markdown",
      "source": [
        "# Universidad Tecnológica de Panama\n",
        "![alt text](http://www.fisc.utp.ac.pa/sites/all/themes/custom/sub_facultad/tropical_fisc/logo.png)\n",
        "### Facultad de Ingeniería de Sistemas Computacionales\n",
        "### Departamento de Computación y Simulación de Sistemas\n",
        "### Estructuras Discretas para la Computación\n",
        "### Prof. Ezequiel Aguilar González\n",
        "- Tareas\n",
        "- Talleres\n",
        "\n",
        "\n"
      ],
      "metadata": {
        "id": "8yH5Jvz6DhGF"
      }
    },
    {
      "cell_type": "code",
      "execution_count": 1,
      "metadata": {
        "colab": {
          "base_uri": "https://localhost:8080/"
        },
        "id": "el6hQGzZ58VH",
        "outputId": "48ddd148-1b54-4db5-bada-f4f42c8d95a2"
      },
      "outputs": [
        {
          "output_type": "stream",
          "name": "stdout",
          "text": [
            "Nombre: Stefany Bejarano\n",
            "Carrera: \n",
            "Año:\n"
          ]
        }
      ],
      "source": [
        "# nuestra primera funcion\n",
        "def print_informacion():\n",
        "  print('Nombre: Stefany Bejarano')\n",
        "  print('Carrera: ')\n",
        "  print('Año:')\n",
        "\n",
        "print_informacion()"
      ]
    },
    {
      "cell_type": "code",
      "source": [
        "def calc():\n",
        "  x, y = 5, 11\n",
        "  print(x + y)\n",
        "\n",
        "calc()"
      ],
      "metadata": {
        "colab": {
          "base_uri": "https://localhost:8080/"
        },
        "id": "ES7wlcAn9a3P",
        "outputId": "8a418d68-5c0c-4d49-9129-89f97cccdda0"
      },
      "execution_count": 2,
      "outputs": [
        {
          "output_type": "stream",
          "name": "stdout",
          "text": [
            "16\n"
          ]
        }
      ]
    },
    {
      "cell_type": "code",
      "source": [
        "def calc4(x, y):\n",
        "  print(x + y)\n",
        "\n",
        "calc2(12, 5)"
      ],
      "metadata": {
        "colab": {
          "base_uri": "https://localhost:8080/"
        },
        "id": "f1vlY2p8-BZP",
        "outputId": "01d581f9-9c50-4c99-f9b4-8927dab789f8"
      },
      "execution_count": 6,
      "outputs": [
        {
          "output_type": "stream",
          "name": "stdout",
          "text": [
            "17\n"
          ]
        }
      ]
    },
    {
      "cell_type": "code",
      "source": [
        "calc2(15, 8)"
      ],
      "metadata": {
        "colab": {
          "base_uri": "https://localhost:8080/"
        },
        "id": "EYKuJZXn-yqO",
        "outputId": "db2bf1b0-0f4c-4ba7-b841-46f9f745ac9b"
      },
      "execution_count": 7,
      "outputs": [
        {
          "output_type": "stream",
          "name": "stdout",
          "text": [
            "23\n"
          ]
        }
      ]
    },
    {
      "cell_type": "code",
      "source": [
        "def calc5(x, y):\n",
        "  \n",
        "  return x + y\n",
        "\n",
        "suma = calc5(1, 4)\n",
        "print(suma)"
      ],
      "metadata": {
        "colab": {
          "base_uri": "https://localhost:8080/"
        },
        "id": "zo9_bFKb_jIf",
        "outputId": "930f6157-fc28-4d5a-d6ee-ea020fe05579"
      },
      "execution_count": 8,
      "outputs": [
        {
          "output_type": "stream",
          "name": "stdout",
          "text": [
            "5\n"
          ]
        }
      ]
    },
    {
      "cell_type": "code",
      "source": [
        "def calcular_area(r, pi = 3.14):\n",
        "  area = pi * (r**2)\n",
        "  return area\n",
        "\n",
        "area2 = calcular_area(5)\n",
        "print('El area es: {}'.format(area2))"
      ],
      "metadata": {
        "colab": {
          "base_uri": "https://localhost:8080/"
        },
        "id": "-RZwm5dpA-Mj",
        "outputId": "017e5540-2933-4355-aff8-ce5048ec6b61"
      },
      "execution_count": 9,
      "outputs": [
        {
          "output_type": "stream",
          "name": "stdout",
          "text": [
            "El area es: 78.5\n"
          ]
        }
      ]
    },
    {
      "cell_type": "code",
      "source": [
        "from IPython.display import clear_output\n",
        "\n",
        "# Lista global\n",
        "carrito = []\n",
        "\n",
        "# se agrega el producto al carrito\n",
        "def agregar_item(item):\n",
        "  clear_output()\n",
        "  carrito.append(item)\n",
        "  print('{} ha sido agregado'.format(item))\n",
        "\n",
        "# funcion para mostrar los elementos del carrito\n",
        "def mostrar_carrito():\n",
        "  clear_output()\n",
        "  if carrito:\n",
        "    print('Aquí su carrito de compras:')\n",
        "    for item in carrito:\n",
        "      print('- {}'.format(item))\n",
        "  else:\n",
        "    print('Su carrito de compras esta vacío.')\n",
        "\n",
        "# función para eliminar un item del carrito\n",
        "def eliminar_item(item):\n",
        "  clear_output()\n",
        "  try:\n",
        "    carrito.remove(item)\n",
        "    print('{} ha sido eliminado.'.format(item))\n",
        "  except:\n",
        "    print('No hay elementos para eliminar')\n",
        "\n",
        "def main():\n",
        "  done = False\n",
        "\n",
        "  while not done:\n",
        "    entrada = input('Escriba una de las siguientes opciones (salir/agregar/eliminar/mostrar): ').lower()\n",
        "\n",
        "    if entrada == 'salir':\n",
        "      print('Gracias por usar el programa')\n",
        "      done = True\n",
        "    elif entrada == 'agregar':\n",
        "      item = input('¿ Qué desea agregar?').title()\n",
        "      agregar_item(item)\n",
        "    elif entrada == 'eliminar':\n",
        "      mostrar_carrito()\n",
        "      item =input('¿Qué elemento desea eliminar?').title()\n",
        "      eliminar_item(item)\n",
        "    elif entrada == 'mostrar':\n",
        "      mostrar_carrito()\n",
        "    else:\n",
        "      print('Esa no es una opción')\n",
        "\n",
        "\n",
        "main()"
      ],
      "metadata": {
        "colab": {
          "base_uri": "https://localhost:8080/"
        },
        "id": "5TaUTdhZEz5p",
        "outputId": "f09a6c45-6d1e-415e-c3f4-4e3b99ca8582"
      },
      "execution_count": 10,
      "outputs": [
        {
          "output_type": "stream",
          "name": "stdout",
          "text": [
            "Escriba una de las siguientes opciones (salir/agregar/eliminar/mostrar): salir\n",
            "Gracias por usar el programa\n"
          ]
        }
      ]
    },
    {
      "cell_type": "code",
      "source": [
        "texto = \"Universidad TECNologica de PANAMA\"\n",
        "\n",
        "print(texto.lower())"
      ],
      "metadata": {
        "colab": {
          "base_uri": "https://localhost:8080/"
        },
        "id": "qb-pVamSGicb",
        "outputId": "a639884f-b9a8-4f8b-8c1d-22fa5726c1fb"
      },
      "execution_count": 11,
      "outputs": [
        {
          "output_type": "stream",
          "name": "stdout",
          "text": [
            "universidad tecnologica de panama\n"
          ]
        }
      ]
    },
    {
      "cell_type": "code",
      "source": [
        "elementos = [1,2,3]\n",
        "elementos.append(4)\n",
        "print(elementos)\n",
        "elementos.remove(2)\n",
        "print(elementos)\n"
      ],
      "metadata": {
        "colab": {
          "base_uri": "https://localhost:8080/"
        },
        "id": "XjuEf2AaNmOt",
        "outputId": "faf6a0f6-c119-4d4b-bec5-bd6478a9e860"
      },
      "execution_count": 12,
      "outputs": [
        {
          "output_type": "stream",
          "name": "stdout",
          "text": [
            "[1, 2, 3, 4]\n",
            "[1, 3, 4]\n"
          ]
        }
      ]
    },
    {
      "cell_type": "markdown",
      "source": [
        "# Tarea\n",
        "1. Crear una función que multiplique tres valores y regrese el resultado.\n",
        "2. **Modificar el carrito de compras:** Modificar el carrito de compras para que tenga una funcionalidad \"cantidad\" que muestre la cantidad de elementos que hay en el carrito\n"
      ],
      "metadata": {
        "id": "QAY3eL3LQyu8"
      }
    },
    {
      "cell_type": "code",
      "source": [
        "def multiplicacion(lista_numeros):\n",
        "\n",
        "   resultado = 1\n",
        "   for x in lista_numeros:\n",
        "      resultado = resultado * x\n",
        "   return resultado\n",
        "\n",
        "lista_num = [4,7,8]\n",
        "lista_num2 =[5,8,3]\n",
        "print(lista_num)\n",
        "print(multiplicacion(lista_num))\n",
        "\n",
        "print(lista_num2)\n",
        "print(multiplicacion(lista_num2))"
      ],
      "metadata": {
        "colab": {
          "base_uri": "https://localhost:8080/"
        },
        "id": "fkfYmiWxPuQq",
        "outputId": "87a25b2a-b615-489d-f9e0-2d024029ffda"
      },
      "execution_count": 13,
      "outputs": [
        {
          "output_type": "stream",
          "name": "stdout",
          "text": [
            "[4, 7, 8]\n",
            "224\n",
            "[5, 8, 3]\n",
            "120\n"
          ]
        }
      ]
    },
    {
      "cell_type": "code",
      "source": [
        "from re import X\n",
        "from IPython.display import clear_output\n",
        "\n",
        "# Lista global\n",
        "carrito = []\n",
        "\n",
        "# se agrega el producto al carrito\n",
        "def agregar_item(item):\n",
        "  clear_output()\n",
        "  carrito.append(item)\n",
        "  print('{} ha sido agregado'.format(item))\n",
        "\n",
        "# funcion para mostrar los elementos del carrito\n",
        "def mostrar_carrito():\n",
        "  clear_output()\n",
        "  if carrito:\n",
        "    print('Aquí su carrito de compras:')\n",
        "    for item in carrito:\n",
        "      print('- {}'.format(item))\n",
        "  else:\n",
        "    print('Su carrito de compras esta vacío.')\n",
        "\n",
        "#funcion para mostrar la cantidad de carrito \n",
        "def cantidad_carrito():\n",
        "  clear_output\n",
        "  print(\"la  cantidad de productos en el carrito es de:\",len(carrito))\n",
        "    \n",
        "# función para eliminar un item del carrito\n",
        "def eliminar_item(item):\n",
        "  clear_output()\n",
        "  try:\n",
        "    carrito.remove(item)\n",
        "    print('{} ha sido eliminado.'.format(item))\n",
        "  except:\n",
        "    print('No hay elementos para eliminar')\n",
        "\n",
        "def main():\n",
        "  done = False\n",
        "\n",
        "  while not done:\n",
        "    entrada = input('Escriba una de las siguientes opciones (salir/agregar/eliminar/mostrar/cantidad): ').lower()\n",
        "\n",
        "    if entrada == 'salir':\n",
        "      print('Gracias por usar el programa')\n",
        "      done = True\n",
        "    elif entrada == 'agregar':\n",
        "      item = input('¿ Qué desea agregar?').title()\n",
        "      agregar_item(item)\n",
        "    elif entrada == 'eliminar':\n",
        "      mostrar_carrito()\n",
        "      item =input('¿Qué elemento desea eliminar?').title()\n",
        "      eliminar_item(item)\n",
        "    elif entrada == 'mostrar':\n",
        "      mostrar_carrito()\n",
        "    elif entrada == 'cantidad':\n",
        "      cantidad_carrito()\n",
        "    else:\n",
        "      print('Esa no es una opción')\n",
        "\n",
        "\n",
        "main()"
      ],
      "metadata": {
        "colab": {
          "base_uri": "https://localhost:8080/"
        },
        "id": "P94qX3othiti",
        "outputId": "ac13fe53-38f5-4232-b1e8-b74306a420fc"
      },
      "execution_count": 14,
      "outputs": [
        {
          "output_type": "stream",
          "name": "stdout",
          "text": [
            "Escriba una de las siguientes opciones (salir/agregar/eliminar/mostrar/cantidad): salir\n",
            "Gracias por usar el programa\n"
          ]
        }
      ]
    }
  ]
}