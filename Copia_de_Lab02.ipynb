{
  "nbformat": 4,
  "nbformat_minor": 0,
  "metadata": {
    "colab": {
      "name": "Copia de Lab02.ipynb",
      "provenance": [],
      "collapsed_sections": []
    },
    "kernelspec": {
      "name": "python3",
      "display_name": "Python 3"
    },
    "language_info": {
      "name": "python"
    }
  },
  "cells": [
    {
      "cell_type": "markdown",
      "metadata": {
        "id": "Tx8BQeDtL-TK"
      },
      "source": [
        "## Conjuntos en Python\n",
        "\n",
        "Ezequiel Aguilar González\n",
        "\n",
        "Stefany Bejarano"
      ]
    },
    {
      "cell_type": "markdown",
      "metadata": {
        "id": "o-AfwkZYNH-X"
      },
      "source": [
        "### Definir un Conjunto"
      ]
    },
    {
      "cell_type": "code",
      "metadata": {
        "id": "x0hZwikJMTW2"
      },
      "source": [
        "x = set(['A', 'B', 'C', 'D', 'E', 'B'])"
      ],
      "execution_count": 1,
      "outputs": []
    },
    {
      "cell_type": "code",
      "metadata": {
        "colab": {
          "base_uri": "https://localhost:8080/"
        },
        "id": "d-f-6W7bOv1W",
        "outputId": "b904fa76-6e9c-4208-8157-e4b7888eee96"
      },
      "source": [
        "print(x)"
      ],
      "execution_count": 2,
      "outputs": [
        {
          "output_type": "stream",
          "name": "stdout",
          "text": [
            "{'C', 'B', 'E', 'A', 'D'}\n"
          ]
        }
      ]
    },
    {
      "cell_type": "code",
      "metadata": {
        "colab": {
          "base_uri": "https://localhost:8080/"
        },
        "id": "WM97lQyoQgNd",
        "outputId": "3d0a80d3-cd63-4fc8-e3fd-a9c390412f6d"
      },
      "source": [
        "'0' in x"
      ],
      "execution_count": 3,
      "outputs": [
        {
          "output_type": "execute_result",
          "data": {
            "text/plain": [
              "False"
            ]
          },
          "metadata": {},
          "execution_count": 3
        }
      ]
    },
    {
      "cell_type": "code",
      "metadata": {
        "colab": {
          "base_uri": "https://localhost:8080/"
        },
        "id": "vj_bfD7rRDzO",
        "outputId": "3476dcc5-fee8-4cd1-e0a3-1feab3ba3ad5"
      },
      "source": [
        "len(x)"
      ],
      "execution_count": 4,
      "outputs": [
        {
          "output_type": "execute_result",
          "data": {
            "text/plain": [
              "5"
            ]
          },
          "metadata": {},
          "execution_count": 4
        }
      ]
    },
    {
      "cell_type": "code",
      "metadata": {
        "colab": {
          "base_uri": "https://localhost:8080/"
        },
        "id": "DMViDmeHS-aQ",
        "outputId": "9105bd8b-05b9-438d-f07c-5b25d5bcc92e"
      },
      "source": [
        "type(x)"
      ],
      "execution_count": 5,
      "outputs": [
        {
          "output_type": "execute_result",
          "data": {
            "text/plain": [
              "set"
            ]
          },
          "metadata": {},
          "execution_count": 5
        }
      ]
    },
    {
      "cell_type": "code",
      "metadata": {
        "id": "hUgV5yNYRym_"
      },
      "source": [
        "x1 = {'foo', 'bar', 'baz'}\n",
        "x2 = {'baz', 'qux', 'quux'}"
      ],
      "execution_count": 6,
      "outputs": []
    },
    {
      "cell_type": "markdown",
      "metadata": {
        "id": "h5AqCCkJUbQF"
      },
      "source": [
        "foo, bar, qux quux"
      ]
    },
    {
      "cell_type": "code",
      "metadata": {
        "colab": {
          "base_uri": "https://localhost:8080/"
        },
        "id": "--apZSHdTGiA",
        "outputId": "8e6139bb-1e01-4294-edd0-27b40f9732bf"
      },
      "source": [
        "x1"
      ],
      "execution_count": 7,
      "outputs": [
        {
          "output_type": "execute_result",
          "data": {
            "text/plain": [
              "{'bar', 'baz', 'foo'}"
            ]
          },
          "metadata": {},
          "execution_count": 7
        }
      ]
    },
    {
      "cell_type": "code",
      "metadata": {
        "colab": {
          "base_uri": "https://localhost:8080/"
        },
        "id": "5JO7IPBITH6-",
        "outputId": "c09f2766-4487-4f37-f0f3-2e2e5579e6c8"
      },
      "source": [
        "x2"
      ],
      "execution_count": null,
      "outputs": [
        {
          "output_type": "execute_result",
          "data": {
            "text/plain": [
              "{'baz', 'quux', 'qux'}"
            ]
          },
          "metadata": {
            "tags": []
          },
          "execution_count": 19
        }
      ]
    },
    {
      "cell_type": "code",
      "metadata": {
        "colab": {
          "base_uri": "https://localhost:8080/"
        },
        "id": "348NBSDDTJme",
        "outputId": "43ca24eb-7965-467d-c819-a6826decc546"
      },
      "source": [
        "x1 | x2"
      ],
      "execution_count": 8,
      "outputs": [
        {
          "output_type": "execute_result",
          "data": {
            "text/plain": [
              "{'bar', 'baz', 'foo', 'quux', 'qux'}"
            ]
          },
          "metadata": {},
          "execution_count": 8
        }
      ]
    },
    {
      "cell_type": "code",
      "source": [
        "len(x1)"
      ],
      "metadata": {
        "colab": {
          "base_uri": "https://localhost:8080/"
        },
        "id": "A1-x5lYtUizX",
        "outputId": "09d9d829-655b-4cd1-d656-229cd18cd5e2"
      },
      "execution_count": 37,
      "outputs": [
        {
          "output_type": "execute_result",
          "data": {
            "text/plain": [
              "3"
            ]
          },
          "metadata": {},
          "execution_count": 37
        }
      ]
    },
    {
      "cell_type": "code",
      "source": [
        "len(x2)"
      ],
      "metadata": {
        "colab": {
          "base_uri": "https://localhost:8080/"
        },
        "id": "8PDt7GvfUlBV",
        "outputId": "61eee79e-e164-471e-bdd9-cf39e39a68fd"
      },
      "execution_count": 40,
      "outputs": [
        {
          "output_type": "execute_result",
          "data": {
            "text/plain": [
              "3"
            ]
          },
          "metadata": {},
          "execution_count": 40
        }
      ]
    },
    {
      "cell_type": "code",
      "source": [
        "len(x1|x2)"
      ],
      "metadata": {
        "colab": {
          "base_uri": "https://localhost:8080/"
        },
        "id": "B9oJNvoqUmjt",
        "outputId": "b31e42b5-51a8-45d5-90dc-4520dff0eaae"
      },
      "execution_count": 39,
      "outputs": [
        {
          "output_type": "execute_result",
          "data": {
            "text/plain": [
              "5"
            ]
          },
          "metadata": {},
          "execution_count": 39
        }
      ]
    },
    {
      "cell_type": "code",
      "metadata": {
        "colab": {
          "base_uri": "https://localhost:8080/"
        },
        "id": "qtmnLwctTTPH",
        "outputId": "d90756da-d24f-4a44-dfd7-0cd12fb597c6"
      },
      "source": [
        "x1.union(x2)"
      ],
      "execution_count": 9,
      "outputs": [
        {
          "output_type": "execute_result",
          "data": {
            "text/plain": [
              "{'bar', 'baz', 'foo', 'quux', 'qux'}"
            ]
          },
          "metadata": {},
          "execution_count": 9
        }
      ]
    },
    {
      "cell_type": "code",
      "metadata": {
        "colab": {
          "base_uri": "https://localhost:8080/"
        },
        "id": "yFLlywmOTh3p",
        "outputId": "0aa04b6d-5e04-4256-84a1-09946f154bfb"
      },
      "source": [
        "x2.union(x1)"
      ],
      "execution_count": 10,
      "outputs": [
        {
          "output_type": "execute_result",
          "data": {
            "text/plain": [
              "{'bar', 'baz', 'foo', 'quux', 'qux'}"
            ]
          },
          "metadata": {},
          "execution_count": 10
        }
      ]
    },
    {
      "cell_type": "code",
      "metadata": {
        "colab": {
          "base_uri": "https://localhost:8080/"
        },
        "id": "sbUGfC3xTqUA",
        "outputId": "62ef70c5-36f3-4ab0-a6c0-1fdf205a740a"
      },
      "source": [
        "x1.intersection(x2)"
      ],
      "execution_count": 12,
      "outputs": [
        {
          "output_type": "execute_result",
          "data": {
            "text/plain": [
              "{'baz'}"
            ]
          },
          "metadata": {},
          "execution_count": 12
        }
      ]
    },
    {
      "cell_type": "code",
      "metadata": {
        "colab": {
          "base_uri": "https://localhost:8080/"
        },
        "id": "jn30UzqiUBHz",
        "outputId": "e73d9122-8185-44f0-c1ae-94c3fdff75ea"
      },
      "source": [
        "x1.difference(x2)"
      ],
      "execution_count": 11,
      "outputs": [
        {
          "output_type": "execute_result",
          "data": {
            "text/plain": [
              "{'bar', 'foo'}"
            ]
          },
          "metadata": {},
          "execution_count": 11
        }
      ]
    },
    {
      "cell_type": "code",
      "metadata": {
        "colab": {
          "base_uri": "https://localhost:8080/"
        },
        "id": "Q_HuvKwHSAvq",
        "outputId": "6c6efc99-a53c-474d-f570-bcb87ba9f617"
      },
      "source": [
        "x2 - x1"
      ],
      "execution_count": 13,
      "outputs": [
        {
          "output_type": "execute_result",
          "data": {
            "text/plain": [
              "{'quux', 'qux'}"
            ]
          },
          "metadata": {},
          "execution_count": 13
        }
      ]
    },
    {
      "cell_type": "code",
      "metadata": {
        "id": "d3k_cNawSCmC"
      },
      "source": [
        "a = {1, 2, 3, 30, 300}"
      ],
      "execution_count": 43,
      "outputs": []
    },
    {
      "cell_type": "code",
      "metadata": {
        "id": "kiy6FOpYSFHy"
      },
      "source": [
        "b = {10, 20, 30, 40}"
      ],
      "execution_count": 42,
      "outputs": []
    },
    {
      "cell_type": "code",
      "metadata": {
        "id": "g3XWt86ZV5fu"
      },
      "source": [
        "c = {100, 200, 300, 400}"
      ],
      "execution_count": 41,
      "outputs": []
    },
    {
      "cell_type": "code",
      "metadata": {
        "colab": {
          "base_uri": "https://localhost:8080/"
        },
        "id": "9D7fvKdjV8xI",
        "outputId": "01b2ce42-df7f-4aa7-8843-0952ca62011a"
      },
      "source": [
        "a - b - c"
      ],
      "execution_count": 17,
      "outputs": [
        {
          "output_type": "execute_result",
          "data": {
            "text/plain": [
              "{1, 2, 3}"
            ]
          },
          "metadata": {},
          "execution_count": 17
        }
      ]
    },
    {
      "cell_type": "code",
      "metadata": {
        "colab": {
          "base_uri": "https://localhost:8080/"
        },
        "id": "FmLEvrPrWAde",
        "outputId": "222d2535-5ba0-4d71-b544-6cd08fcbfeb2"
      },
      "source": [
        "a - b"
      ],
      "execution_count": 18,
      "outputs": [
        {
          "output_type": "execute_result",
          "data": {
            "text/plain": [
              "{1, 2, 3, 300}"
            ]
          },
          "metadata": {},
          "execution_count": 18
        }
      ]
    },
    {
      "cell_type": "code",
      "metadata": {
        "colab": {
          "base_uri": "https://localhost:8080/"
        },
        "id": "OMqOBkgQWV8R",
        "outputId": "5e423d6d-6b58-49a5-b2fd-8d543baaae9e"
      },
      "source": [
        "b - c"
      ],
      "execution_count": 20,
      "outputs": [
        {
          "output_type": "execute_result",
          "data": {
            "text/plain": [
              "{10, 20, 30, 40}"
            ]
          },
          "metadata": {},
          "execution_count": 20
        }
      ]
    },
    {
      "cell_type": "code",
      "metadata": {
        "colab": {
          "base_uri": "https://localhost:8080/"
        },
        "id": "2HVYpJEdWyUk",
        "outputId": "c68c54d8-8f52-4916-8c74-ab1057d58519"
      },
      "source": [
        "x1.symmetric_difference(x2)"
      ],
      "execution_count": 21,
      "outputs": [
        {
          "output_type": "execute_result",
          "data": {
            "text/plain": [
              "{'bar', 'foo', 'quux', 'qux'}"
            ]
          },
          "metadata": {},
          "execution_count": 21
        }
      ]
    },
    {
      "cell_type": "code",
      "metadata": {
        "colab": {
          "base_uri": "https://localhost:8080/"
        },
        "id": "KGbZ30NPXOu_",
        "outputId": "4753f18d-2801-4cbd-9340-3aaa319e5b92"
      },
      "source": [
        "x2.symmetric_difference(x1)"
      ],
      "execution_count": 22,
      "outputs": [
        {
          "output_type": "execute_result",
          "data": {
            "text/plain": [
              "{'bar', 'foo', 'quux', 'qux'}"
            ]
          },
          "metadata": {},
          "execution_count": 22
        }
      ]
    },
    {
      "cell_type": "code",
      "metadata": {
        "colab": {
          "base_uri": "https://localhost:8080/"
        },
        "id": "TJyCX0WeXXVW",
        "outputId": "29f09ab7-93fe-48a8-f7c8-a91b60c2202a"
      },
      "source": [
        "x1.isdisjoint(x2)"
      ],
      "execution_count": 23,
      "outputs": [
        {
          "output_type": "execute_result",
          "data": {
            "text/plain": [
              "False"
            ]
          },
          "metadata": {},
          "execution_count": 23
        }
      ]
    },
    {
      "cell_type": "code",
      "metadata": {
        "colab": {
          "base_uri": "https://localhost:8080/"
        },
        "id": "gqpnrV0EXdYg",
        "outputId": "0122ced5-a732-4c2d-d694-65ebba8475e8"
      },
      "source": [
        "x1.issubset(x2)"
      ],
      "execution_count": 24,
      "outputs": [
        {
          "output_type": "execute_result",
          "data": {
            "text/plain": [
              "False"
            ]
          },
          "metadata": {},
          "execution_count": 24
        }
      ]
    },
    {
      "cell_type": "code",
      "metadata": {
        "colab": {
          "base_uri": "https://localhost:8080/"
        },
        "id": "CsrHKHbUXv45",
        "outputId": "7351b222-7fbf-4ddf-9a7a-85650023a713"
      },
      "source": [
        "x1.issuperset(x2)"
      ],
      "execution_count": 25,
      "outputs": [
        {
          "output_type": "execute_result",
          "data": {
            "text/plain": [
              "False"
            ]
          },
          "metadata": {},
          "execution_count": 25
        }
      ]
    },
    {
      "cell_type": "code",
      "metadata": {
        "colab": {
          "base_uri": "https://localhost:8080/"
        },
        "id": "TeHsRE-CX2Mx",
        "outputId": "9f0f5081-b04d-414e-c795-4fb1e5800c06"
      },
      "source": [
        "x1.issubset(x1)"
      ],
      "execution_count": 26,
      "outputs": [
        {
          "output_type": "execute_result",
          "data": {
            "text/plain": [
              "True"
            ]
          },
          "metadata": {},
          "execution_count": 26
        }
      ]
    },
    {
      "cell_type": "code",
      "metadata": {
        "id": "q3aJ7aHIX7oZ",
        "colab": {
          "base_uri": "https://localhost:8080/"
        },
        "outputId": "368f6f20-05c1-4086-de4c-fd55721c269c"
      },
      "source": [
        "y = set(['9','1','2','3','4','5','6',7,'7','7'])\n",
        "if 9 in y: \n",
        "  print(\"Si se encuentra el 9\")\n",
        "else: \n",
        "    print(\"Hoy es miercoles\")"
      ],
      "execution_count": 35,
      "outputs": [
        {
          "output_type": "stream",
          "name": "stdout",
          "text": [
            "Hoy es miercoles\n"
          ]
        }
      ]
    },
    {
      "cell_type": "code",
      "source": [
        "print(y)"
      ],
      "metadata": {
        "colab": {
          "base_uri": "https://localhost:8080/"
        },
        "id": "BmOnxgdkSnPd",
        "outputId": "983cb260-01fd-4e6a-f82d-9b29015c7e08"
      },
      "execution_count": 28,
      "outputs": [
        {
          "output_type": "stream",
          "name": "stdout",
          "text": [
            "{'7', '4', 7, '5', '2', '3', '1', '6'}\n"
          ]
        }
      ]
    },
    {
      "cell_type": "code",
      "source": [
        "len(y)"
      ],
      "metadata": {
        "colab": {
          "base_uri": "https://localhost:8080/"
        },
        "id": "8WP2NZyHSsFd",
        "outputId": "d69e0f9b-23f7-4c8e-982f-3a1ac4788c66"
      },
      "execution_count": 29,
      "outputs": [
        {
          "output_type": "execute_result",
          "data": {
            "text/plain": [
              "8"
            ]
          },
          "metadata": {},
          "execution_count": 29
        }
      ]
    },
    {
      "cell_type": "code",
      "source": [
        "a = -10\n",
        "if (a > 0):\n",
        "  print(\"a es mayor a 0\")\n",
        "else: \n",
        "    print(\"a es menor a 0\")\n",
        "    print(\"Hoy es miercoles\")"
      ],
      "metadata": {
        "colab": {
          "base_uri": "https://localhost:8080/"
        },
        "id": "mxThc36XSxzp",
        "outputId": "bce0eeb4-9757-4756-853f-6d6c92f917b3"
      },
      "execution_count": 36,
      "outputs": [
        {
          "output_type": "stream",
          "name": "stdout",
          "text": [
            "a es menor a 0\n",
            "Hoy es miercoles\n"
          ]
        }
      ]
    },
    {
      "cell_type": "code",
      "source": [
        ""
      ],
      "metadata": {
        "id": "_SMas7y-Tvoh"
      },
      "execution_count": null,
      "outputs": []
    }
  ]
}